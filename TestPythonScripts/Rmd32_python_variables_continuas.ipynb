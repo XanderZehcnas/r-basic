{
 "cells": [
  {
   "cell_type": "markdown",
   "metadata": {},
   "source": [
    "# Variables aleatorias continuas Python"
   ]
  },
  {
   "cell_type": "code",
   "execution_count": 5,
   "metadata": {},
   "outputs": [
    {
     "name": "stdout",
     "output_type": "stream",
     "text": [
      "Media 0.500000\n",
      "Var 0.083333\n",
      "Sesgo 0.000000\n",
      "Kurt -1.200000\n"
     ]
    },
    {
     "data": {
      "image/png": "[encoded data removed]",
      "text/plain": [
       "<Figure size 432x288 with 1 Axes>"
      ]
     },
     "metadata": {
      "needs_background": "light"
     },
     "output_type": "display_data"
    }
   ],
   "source": [
    "from scipy.stats import uniform\n",
    "import matplotlib.pyplot as plt\n",
    "import numpy as np\n",
    "\n",
    "a = 0\n",
    "b = 1\n",
    "loc = a\n",
    "scale = b-a\n",
    "\n",
    "rv = uniform(loc=loc,scale=scale)\n",
    "\n",
    "mean, var, skew, kurt = rv.stats(moments='mvsk')\n",
    "print(\"Media %f\"%mean)\n",
    "print(\"Var %f\"%var)\n",
    "print(\"Sesgo %f\"%skew)\n",
    "print(\"Kurt %f\"%kurt)\n",
    "\n",
    "fgi,ax = plt.subplots(1,1)\n",
    "x= np.linspace(-0.1,1.1,120)\n",
    "ax.plot(x,rv.pdf(x),'k-',lw=2,label=\"U(0,1)\")\n",
    "\n",
    "r = rv.rvs(size=100000)\n",
    "ax.hist(r,density=True,histtype=\"stepfilled\",alpha=0.25)\n",
    "\n",
    "ax.legend(loc='best',frameon=False)\n",
    "plt.show()\n"
   ]
  },
  {
   "cell_type": "markdown",
   "metadata": {},
   "source": [
    "## Exponencial"
   ]
  },
  {
   "cell_type": "code",
   "execution_count": 8,
   "metadata": {},
   "outputs": [
    {
     "name": "stdout",
     "output_type": "stream",
     "text": [
      "Media 0.100000\n",
      "Var 0.010000\n",
      "Sesgo 2.000000\n",
      "Kurt 6.000000\n"
     ]
    },
    {
     "data": {
      "image/png": "[encoded data removed]",
      "text/plain": [
       "<Figure size 432x288 with 1 Axes>"
      ]
     },
     "metadata": {
      "needs_background": "light"
     },
     "output_type": "display_data"
    }
   ],
   "source": [
    "from scipy.stats import expon\n",
    "lam = 10\n",
    "scale = 1/lam\n",
    "rv = expon(scale=scale)\n",
    "\n",
    "mean, var, skew, kurt = rv.stats(moments='mvsk')\n",
    "print(\"Media %f\"%mean)\n",
    "print(\"Var %f\"%var)\n",
    "print(\"Sesgo %f\"%skew)\n",
    "print(\"Kurt %f\"%kurt)\n",
    "\n",
    "fgi,ax = plt.subplots(1,1)\n",
    "x= np.linspace(0,2,1000)\n",
    "ax.plot(x,rv.pdf(x),'k-',lw=2,label=\"U(0,1)\")\n",
    "\n",
    "r = rv.rvs(size=100000)\n",
    "ax.hist(r,density=True,histtype=\"stepfilled\",alpha=0.25)\n",
    "\n",
    "ax.legend(loc='best',frameon=False)\n",
    "plt.show()"
   ]
  },
  {
   "cell_type": "code",
   "execution_count": null,
   "metadata": {},
   "outputs": [],
   "source": []
  }
 ],
 "metadata": {
  "kernelspec": {
   "display_name": "Python 3",
   "language": "python",
   "name": "python3"
  },
  "language_info": {
   "codemirror_mode": {
    "name": "ipython",
    "version": 3
   },
   "file_extension": ".py",
   "mimetype": "text/x-python",
   "name": "python",
   "nbconvert_exporter": "python",
   "pygments_lexer": "ipython3",
   "version": "3.8.5"
  }
 },
 "nbformat": 4,
 "nbformat_minor": 4
}
