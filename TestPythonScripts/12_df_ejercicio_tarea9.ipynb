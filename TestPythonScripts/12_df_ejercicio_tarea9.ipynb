{
 "cells": [
  {
   "cell_type": "markdown",
   "metadata": {},
   "source": [
    "# Tarea 9 - Ejercicio data frames\n",
    "1.Indica cuantos estudiantes formaron parte del estudio de deporte\n",
    "\n",
    "2.Indica cuantos individuos son hombres y cuantos son mujeres\n",
    "\n",
    "3.Calcula el porcentaje medio de variación del pulso por minuto entre antes y después de hacer ejercicio y compara el valor de los que hacen ejercicio habitualmente y los que no. ¿Observas mucha diferencia?\n",
    "\n",
    "4.Calcula el porcentaje medio de variación del pulso por minuto entre antes y después de hacer ejercicio  para los estudiantes que hacen ejercicio habitualmente y compara el valor de los hombres con el de las mujeres. ¿Observas mucha diferencia?\n",
    "\n",
    "5.Calcula el porcentaje medio de variación del pulso por minuto entre antes y después de hacer ejercicio para los estudiantes que no hacen ejercicio habitualmente y compara el valor de los fumadores con los no fumadores. ¿Observas mucha diferencia?\n",
    "\n",
    "6.Calcula el porcentaje medio de variación del pulso por minuto entre antes y después de hacer ejercicio de todos los estudiantes según el tipo de actividad física que realizan. ¿Observas alguna diferencia?"
   ]
  },
  {
   "cell_type": "code",
   "execution_count": null,
   "metadata": {},
   "outputs": [],
   "source": []
  },
  {
   "cell_type": "markdown",
   "metadata": {},
   "source": [
    "## Pregunta 1"
   ]
  },
  {
   "cell_type": "code",
   "execution_count": 3,
   "metadata": {},
   "outputs": [
    {
     "data": {
      "text/html": [
       "<div>\n",
       "<style scoped>\n",
       "    .dataframe tbody tr th:only-of-type {\n",
       "        vertical-align: middle;\n",
       "    }\n",
       "\n",
       "    .dataframe tbody tr th {\n",
       "        vertical-align: top;\n",
       "    }\n",
       "\n",
       "    .dataframe thead th {\n",
       "        text-align: right;\n",
       "    }\n",
       "</style>\n",
       "<table border=\"1\" class=\"dataframe\">\n",
       "  <thead>\n",
       "    <tr style=\"text-align: right;\">\n",
       "      <th></th>\n",
       "      <th>Unnamed: 0</th>\n",
       "      <th>pulso.antes</th>\n",
       "      <th>pulso.despues</th>\n",
       "      <th>hace.deporte</th>\n",
       "      <th>fuma</th>\n",
       "      <th>genero</th>\n",
       "      <th>altura</th>\n",
       "      <th>peso</th>\n",
       "      <th>tipo.actividad</th>\n",
       "    </tr>\n",
       "  </thead>\n",
       "  <tbody>\n",
       "    <tr>\n",
       "      <th>0</th>\n",
       "      <td>1</td>\n",
       "      <td>48</td>\n",
       "      <td>54</td>\n",
       "      <td>no</td>\n",
       "      <td>si</td>\n",
       "      <td>H</td>\n",
       "      <td>68.0</td>\n",
       "      <td>150</td>\n",
       "      <td>nula</td>\n",
       "    </tr>\n",
       "    <tr>\n",
       "      <th>1</th>\n",
       "      <td>2</td>\n",
       "      <td>54</td>\n",
       "      <td>56</td>\n",
       "      <td>no</td>\n",
       "      <td>si</td>\n",
       "      <td>H</td>\n",
       "      <td>69.0</td>\n",
       "      <td>145</td>\n",
       "      <td>moderada</td>\n",
       "    </tr>\n",
       "    <tr>\n",
       "      <th>2</th>\n",
       "      <td>3</td>\n",
       "      <td>54</td>\n",
       "      <td>50</td>\n",
       "      <td>no</td>\n",
       "      <td>no</td>\n",
       "      <td>H</td>\n",
       "      <td>69.0</td>\n",
       "      <td>160</td>\n",
       "      <td>moderada</td>\n",
       "    </tr>\n",
       "    <tr>\n",
       "      <th>3</th>\n",
       "      <td>4</td>\n",
       "      <td>58</td>\n",
       "      <td>70</td>\n",
       "      <td>si</td>\n",
       "      <td>no</td>\n",
       "      <td>H</td>\n",
       "      <td>72.0</td>\n",
       "      <td>145</td>\n",
       "      <td>moderada</td>\n",
       "    </tr>\n",
       "    <tr>\n",
       "      <th>4</th>\n",
       "      <td>5</td>\n",
       "      <td>58</td>\n",
       "      <td>58</td>\n",
       "      <td>no</td>\n",
       "      <td>no</td>\n",
       "      <td>H</td>\n",
       "      <td>66.0</td>\n",
       "      <td>135</td>\n",
       "      <td>intensa</td>\n",
       "    </tr>\n",
       "    <tr>\n",
       "      <th>...</th>\n",
       "      <td>...</td>\n",
       "      <td>...</td>\n",
       "      <td>...</td>\n",
       "      <td>...</td>\n",
       "      <td>...</td>\n",
       "      <td>...</td>\n",
       "      <td>...</td>\n",
       "      <td>...</td>\n",
       "      <td>...</td>\n",
       "    </tr>\n",
       "    <tr>\n",
       "      <th>87</th>\n",
       "      <td>88</td>\n",
       "      <td>92</td>\n",
       "      <td>94</td>\n",
       "      <td>no</td>\n",
       "      <td>si</td>\n",
       "      <td>H</td>\n",
       "      <td>69.0</td>\n",
       "      <td>150</td>\n",
       "      <td>moderada</td>\n",
       "    </tr>\n",
       "    <tr>\n",
       "      <th>88</th>\n",
       "      <td>89</td>\n",
       "      <td>94</td>\n",
       "      <td>92</td>\n",
       "      <td>no</td>\n",
       "      <td>si</td>\n",
       "      <td>M</td>\n",
       "      <td>62.0</td>\n",
       "      <td>131</td>\n",
       "      <td>moderada</td>\n",
       "    </tr>\n",
       "    <tr>\n",
       "      <th>89</th>\n",
       "      <td>90</td>\n",
       "      <td>96</td>\n",
       "      <td>140</td>\n",
       "      <td>si</td>\n",
       "      <td>no</td>\n",
       "      <td>M</td>\n",
       "      <td>61.0</td>\n",
       "      <td>140</td>\n",
       "      <td>moderada</td>\n",
       "    </tr>\n",
       "    <tr>\n",
       "      <th>90</th>\n",
       "      <td>91</td>\n",
       "      <td>96</td>\n",
       "      <td>116</td>\n",
       "      <td>si</td>\n",
       "      <td>no</td>\n",
       "      <td>M</td>\n",
       "      <td>68.0</td>\n",
       "      <td>116</td>\n",
       "      <td>moderada</td>\n",
       "    </tr>\n",
       "    <tr>\n",
       "      <th>91</th>\n",
       "      <td>92</td>\n",
       "      <td>100</td>\n",
       "      <td>115</td>\n",
       "      <td>si</td>\n",
       "      <td>si</td>\n",
       "      <td>M</td>\n",
       "      <td>63.0</td>\n",
       "      <td>121</td>\n",
       "      <td>moderada</td>\n",
       "    </tr>\n",
       "  </tbody>\n",
       "</table>\n",
       "<p>92 rows × 9 columns</p>\n",
       "</div>"
      ],
      "text/plain": [
       "    Unnamed: 0  pulso.antes  pulso.despues hace.deporte fuma genero  altura  \\\n",
       "0            1           48             54           no   si      H    68.0   \n",
       "1            2           54             56           no   si      H    69.0   \n",
       "2            3           54             50           no   no      H    69.0   \n",
       "3            4           58             70           si   no      H    72.0   \n",
       "4            5           58             58           no   no      H    66.0   \n",
       "..         ...          ...            ...          ...  ...    ...     ...   \n",
       "87          88           92             94           no   si      H    69.0   \n",
       "88          89           94             92           no   si      M    62.0   \n",
       "89          90           96            140           si   no      M    61.0   \n",
       "90          91           96            116           si   no      M    68.0   \n",
       "91          92          100            115           si   si      M    63.0   \n",
       "\n",
       "    peso tipo.actividad  \n",
       "0    150           nula  \n",
       "1    145       moderada  \n",
       "2    160       moderada  \n",
       "3    145       moderada  \n",
       "4    135        intensa  \n",
       "..   ...            ...  \n",
       "87   150       moderada  \n",
       "88   131       moderada  \n",
       "89   140       moderada  \n",
       "90   116       moderada  \n",
       "91   121       moderada  \n",
       "\n",
       "[92 rows x 9 columns]"
      ]
     },
     "execution_count": 3,
     "metadata": {},
     "output_type": "execute_result"
    }
   ],
   "source": [
    "import pandas as pd\n",
    "df = pd.read_csv(\"D:\\\\Desarrollo\\\\MyLearning\\\\R\\\\r-basic\\\\data\\\\run.csv\")\n",
    "df"
   ]
  },
  {
   "cell_type": "code",
   "execution_count": 5,
   "metadata": {},
   "outputs": [
    {
     "data": {
      "text/plain": [
       "Unnamed: 0        92\n",
       "pulso.antes       92\n",
       "pulso.despues     92\n",
       "hace.deporte      92\n",
       "fuma              92\n",
       "genero            92\n",
       "altura            92\n",
       "peso              92\n",
       "tipo.actividad    92\n",
       "dtype: int64"
      ]
     },
     "execution_count": 5,
     "metadata": {},
     "output_type": "execute_result"
    }
   ],
   "source": [
    "df.count()"
   ]
  },
  {
   "cell_type": "markdown",
   "metadata": {},
   "source": [
    "## Pregunta 2"
   ]
  },
  {
   "cell_type": "code",
   "execution_count": 7,
   "metadata": {},
   "outputs": [
    {
     "data": {
      "text/html": [
       "<div>\n",
       "<style scoped>\n",
       "    .dataframe tbody tr th:only-of-type {\n",
       "        vertical-align: middle;\n",
       "    }\n",
       "\n",
       "    .dataframe tbody tr th {\n",
       "        vertical-align: top;\n",
       "    }\n",
       "\n",
       "    .dataframe thead th {\n",
       "        text-align: right;\n",
       "    }\n",
       "</style>\n",
       "<table border=\"1\" class=\"dataframe\">\n",
       "  <thead>\n",
       "    <tr style=\"text-align: right;\">\n",
       "      <th></th>\n",
       "      <th>Unnamed: 0</th>\n",
       "      <th>pulso.antes</th>\n",
       "      <th>pulso.despues</th>\n",
       "      <th>hace.deporte</th>\n",
       "      <th>fuma</th>\n",
       "      <th>altura</th>\n",
       "      <th>peso</th>\n",
       "      <th>tipo.actividad</th>\n",
       "    </tr>\n",
       "    <tr>\n",
       "      <th>genero</th>\n",
       "      <th></th>\n",
       "      <th></th>\n",
       "      <th></th>\n",
       "      <th></th>\n",
       "      <th></th>\n",
       "      <th></th>\n",
       "      <th></th>\n",
       "      <th></th>\n",
       "    </tr>\n",
       "  </thead>\n",
       "  <tbody>\n",
       "    <tr>\n",
       "      <th>H</th>\n",
       "      <td>57</td>\n",
       "      <td>57</td>\n",
       "      <td>57</td>\n",
       "      <td>57</td>\n",
       "      <td>57</td>\n",
       "      <td>57</td>\n",
       "      <td>57</td>\n",
       "      <td>57</td>\n",
       "    </tr>\n",
       "    <tr>\n",
       "      <th>M</th>\n",
       "      <td>35</td>\n",
       "      <td>35</td>\n",
       "      <td>35</td>\n",
       "      <td>35</td>\n",
       "      <td>35</td>\n",
       "      <td>35</td>\n",
       "      <td>35</td>\n",
       "      <td>35</td>\n",
       "    </tr>\n",
       "  </tbody>\n",
       "</table>\n",
       "</div>"
      ],
      "text/plain": [
       "        Unnamed: 0  pulso.antes  pulso.despues  hace.deporte  fuma  altura  \\\n",
       "genero                                                                       \n",
       "H               57           57             57            57    57      57   \n",
       "M               35           35             35            35    35      35   \n",
       "\n",
       "        peso  tipo.actividad  \n",
       "genero                        \n",
       "H         57              57  \n",
       "M         35              35  "
      ]
     },
     "execution_count": 7,
     "metadata": {},
     "output_type": "execute_result"
    }
   ],
   "source": [
    "df.groupby('genero').count()"
   ]
  },
  {
   "cell_type": "markdown",
   "metadata": {},
   "source": [
    "## Pregunta 3"
   ]
  },
  {
   "cell_type": "code",
   "execution_count": 16,
   "metadata": {},
   "outputs": [
    {
     "data": {
      "text/plain": [
       "hace.deporte\n",
       "no    0.002095\n",
       "si    0.262154\n",
       "dtype: float64"
      ]
     },
     "execution_count": 16,
     "metadata": {},
     "output_type": "execute_result"
    }
   ],
   "source": [
    "def inc_porcentaje(x):\n",
    "    antes = x['pulso.antes']\n",
    "    despues = x['pulso.despues']\n",
    "    return (despues-antes)/antes\n",
    "\n",
    "df2 = df.groupby('hace.deporte').apply(inc_porcentaje)\n",
    "df2.groupby('hace.deporte').mean()"
   ]
  },
  {
   "cell_type": "markdown",
   "metadata": {},
   "source": [
    "## Pregunta 4"
   ]
  },
  {
   "cell_type": "code",
   "execution_count": 18,
   "metadata": {},
   "outputs": [
    {
     "data": {
      "text/plain": [
       "hace.deporte  genero\n",
       "no            H         0.002500\n",
       "              M         0.001538\n",
       "si            H         0.191769\n",
       "              M         0.415722\n",
       "dtype: float64"
      ]
     },
     "execution_count": 18,
     "metadata": {},
     "output_type": "execute_result"
    }
   ],
   "source": [
    "df2 = df.groupby(['hace.deporte','genero']).apply(inc_porcentaje)\n",
    "df2.groupby(['hace.deporte','genero']).mean()"
   ]
  },
  {
   "cell_type": "markdown",
   "metadata": {},
   "source": [
    "## Pregunta 5"
   ]
  },
  {
   "cell_type": "code",
   "execution_count": 19,
   "metadata": {},
   "outputs": [
    {
     "data": {
      "text/plain": [
       "hace.deporte  fuma\n",
       "no            no     -0.000648\n",
       "              si      0.009122\n",
       "si            no      0.294122\n",
       "              si      0.200883\n",
       "dtype: float64"
      ]
     },
     "execution_count": 19,
     "metadata": {},
     "output_type": "execute_result"
    }
   ],
   "source": [
    "df2 = df.groupby(['hace.deporte','fuma']).apply(inc_porcentaje)\n",
    "df2.groupby(['hace.deporte','fuma']).mean()"
   ]
  },
  {
   "cell_type": "markdown",
   "metadata": {},
   "source": [
    "## Pregunta 6"
   ]
  },
  {
   "cell_type": "code",
   "execution_count": 20,
   "metadata": {},
   "outputs": [
    {
     "data": {
      "text/plain": [
       "tipo.actividad\n",
       "intensa     0.013475\n",
       "moderada    0.140157\n",
       "nula        0.125000\n",
       "suave       0.037472\n",
       "dtype: float64"
      ]
     },
     "execution_count": 20,
     "metadata": {},
     "output_type": "execute_result"
    }
   ],
   "source": [
    "df2 = df.groupby('tipo.actividad').apply(inc_porcentaje)\n",
    "df2.groupby('tipo.actividad').mean()"
   ]
  },
  {
   "cell_type": "code",
   "execution_count": 24,
   "metadata": {},
   "outputs": [
    {
     "ename": "SyntaxError",
     "evalue": "invalid syntax (<ipython-input-24-0c9f860e8826>, line 1)",
     "output_type": "error",
     "traceback": [
      "\u001b[1;36m  File \u001b[1;32m\"<ipython-input-24-0c9f860e8826>\"\u001b[1;36m, line \u001b[1;32m1\u001b[0m\n\u001b[1;33m    df$var = df$pulso.despues-df$pulso.antes\u001b[0m\n\u001b[1;37m      ^\u001b[0m\n\u001b[1;31mSyntaxError\u001b[0m\u001b[1;31m:\u001b[0m invalid syntax\n"
     ]
    }
   ],
   "source": []
  },
  {
   "cell_type": "code",
   "execution_count": null,
   "metadata": {},
   "outputs": [],
   "source": []
  },
  {
   "cell_type": "code",
   "execution_count": null,
   "metadata": {},
   "outputs": [],
   "source": []
  },
  {
   "cell_type": "code",
   "execution_count": null,
   "metadata": {},
   "outputs": [],
   "source": []
  },
  {
   "cell_type": "code",
   "execution_count": null,
   "metadata": {},
   "outputs": [],
   "source": []
  },
  {
   "cell_type": "code",
   "execution_count": null,
   "metadata": {},
   "outputs": [],
   "source": []
  },
  {
   "cell_type": "code",
   "execution_count": null,
   "metadata": {},
   "outputs": [],
   "source": []
  },
  {
   "cell_type": "code",
   "execution_count": null,
   "metadata": {},
   "outputs": [],
   "source": []
  },
  {
   "cell_type": "code",
   "execution_count": null,
   "metadata": {},
   "outputs": [],
   "source": []
  },
  {
   "cell_type": "code",
   "execution_count": null,
   "metadata": {},
   "outputs": [],
   "source": []
  },
  {
   "cell_type": "code",
   "execution_count": null,
   "metadata": {},
   "outputs": [],
   "source": []
  },
  {
   "cell_type": "code",
   "execution_count": null,
   "metadata": {},
   "outputs": [],
   "source": []
  },
  {
   "cell_type": "code",
   "execution_count": null,
   "metadata": {},
   "outputs": [],
   "source": []
  },
  {
   "cell_type": "code",
   "execution_count": null,
   "metadata": {},
   "outputs": [],
   "source": []
  },
  {
   "cell_type": "code",
   "execution_count": null,
   "metadata": {},
   "outputs": [],
   "source": []
  },
  {
   "cell_type": "code",
   "execution_count": null,
   "metadata": {},
   "outputs": [],
   "source": []
  },
  {
   "cell_type": "code",
   "execution_count": null,
   "metadata": {},
   "outputs": [],
   "source": []
  },
  {
   "cell_type": "code",
   "execution_count": null,
   "metadata": {},
   "outputs": [],
   "source": []
  },
  {
   "cell_type": "code",
   "execution_count": null,
   "metadata": {},
   "outputs": [],
   "source": []
  }
 ],
 "metadata": {
  "kernelspec": {
   "display_name": "Python 3",
   "language": "python",
   "name": "python3"
  },
  "language_info": {
   "codemirror_mode": {
    "name": "ipython",
    "version": 3
   },
   "file_extension": ".py",
   "mimetype": "text/x-python",
   "name": "python",
   "nbconvert_exporter": "python",
   "pygments_lexer": "ipython3",
   "version": "3.8.5"
  }
 },
 "nbformat": 4,
 "nbformat_minor": 4
}
