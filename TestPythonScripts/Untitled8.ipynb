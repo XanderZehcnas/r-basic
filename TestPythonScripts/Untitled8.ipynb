{
 "cells": [
  {
   "cell_type": "markdown",
   "metadata": {},
   "source": [
    "# Agrupación de datos cuantitativos"
   ]
  },
  {
   "cell_type": "code",
   "execution_count": 93,
   "metadata": {},
   "outputs": [],
   "source": [
    "import math\n",
    "import numpy as np\n",
    "def printClasesMarcas(cw,k):\n",
    "    n = len(cw)\n",
    "    A = round(math.ceil(((max(cw)-min(cw))/k)/0.1)*0.1,2)\n",
    "    L1 = min(cw)-1/2*0.1\n",
    "    L = [L1]\n",
    "    X = []\n",
    "    for i in range(1,k+1):\n",
    "        L.append(round(L1+A*i,2))\n",
    "        X.append(round(L1+A/2+A*(i-1),2))\n",
    "    print(\"A=\",A)\n",
    "    print(\"Limite Clases = \",L)\n",
    "    print(\"Marcas de Clase = \",X)\n",
    "        \n",
    "def metodo_raizcuadrada(cw):\n",
    "    print(\"Método de raiz cuadrada\")\n",
    "    print(\"-----------------------\")\n",
    "    n = len(cw)\n",
    "    k = math.ceil(math.sqrt(n))\n",
    "    print(\"Num Clases = \",k)\n",
    "    printClasesMarcas(cw,k)\n",
    "    print(\"\")\n",
    "    \n",
    "def metodo_sturges(cw):\n",
    "    print(\"Método de Sturges\")\n",
    "    print(\"-----------------------\")\n",
    "    n = len(cw)\n",
    "    k = math.ceil(1+math.log(n,2))\n",
    "    print(\"Num Clases = \",k)\n",
    "    printClasesMarcas(cw,k)\n",
    "    print(\"\")\n",
    "    \n",
    "\n",
    "def metodo_scott(cw):\n",
    "    print(\"Método de Scott\")\n",
    "    print(\"-----------------------\")\n",
    "    n = len(cw)\n",
    "    nparray = np.array(cw)\n",
    "    print(nparray.std())\n",
    "    As = 3.5*nparray.std()*(n**(-1/3))\n",
    "    k = math.ceil((max(cw)-min(cw))/As)\n",
    "    print(\"Num Clases = \",k)\n",
    "    printClasesMarcas(cw,k)\n",
    "    print(\"\")\n",
    "    \n",
    "def metodo_fd(cw):\n",
    "    print(\"Método de Scott\")\n",
    "    print(\"-----------------------\")\n",
    "    n = len(cw)\n",
    "    npa = np.array(cw)\n",
    "    Afd = 2*(np.quantile(npa,0.75)-np.quantile(npa,0.25))*(n**(-1/3))\n",
    "    k = math.ceil((max(cw)-min(cw))/Afd)\n",
    "    print(\"Num Clases = \",k)\n",
    "    printClasesMarcas(cw,k)\n",
    "    print(\"\")"
   ]
  },
  {
   "cell_type": "code",
   "execution_count": null,
   "metadata": {},
   "outputs": [],
   "source": []
  },
  {
   "cell_type": "code",
   "execution_count": null,
   "metadata": {},
   "outputs": [],
   "source": []
  },
  {
   "cell_type": "code",
   "execution_count": null,
   "metadata": {},
   "outputs": [],
   "source": []
  },
  {
   "cell_type": "code",
   "execution_count": null,
   "metadata": {},
   "outputs": [],
   "source": []
  },
  {
   "cell_type": "code",
   "execution_count": 94,
   "metadata": {},
   "outputs": [
    {
     "name": "stdout",
     "output_type": "stream",
     "text": [
      "Método de raiz cuadrada\n",
      "-----------------------\n",
      "Num Clases =  8\n",
      "A= 3.9\n",
      "Limite Clases =  [4.45, 8.35, 12.25, 16.15, 20.05, 23.95, 27.85, 31.75, 35.65]\n",
      "Marcas de Clase =  [6.4, 10.3, 14.2, 18.1, 22.0, 25.9, 29.8, 33.7]\n",
      "\n",
      "Método de Sturges\n",
      "-----------------------\n",
      "Num Clases =  7\n",
      "A= 4.4\n",
      "Limite Clases =  [4.45, 8.85, 13.25, 17.65, 22.05, 26.45, 30.85, 35.25]\n",
      "Marcas de Clase =  [6.65, 11.05, 15.45, 19.85, 24.25, 28.65, 33.05]\n",
      "\n",
      "Método de Scott\n",
      "-----------------------\n",
      "8.739610339648381\n",
      "Num Clases =  4\n",
      "A= 7.7\n",
      "Limite Clases =  [4.45, 12.15, 19.85, 27.55, 35.25]\n",
      "Marcas de Clase =  [8.3, 16.0, 23.7, 31.4]\n",
      "\n",
      "Método de Scott\n",
      "-----------------------\n",
      "Num Clases =  5\n",
      "A= 6.2\n",
      "Limite Clases =  [4.45, 10.65, 16.85, 23.05, 29.25, 35.45]\n",
      "Marcas de Clase =  [7.55, 13.75, 19.95, 26.15, 32.35]\n",
      "\n"
     ]
    }
   ],
   "source": [
    "value = [4.5,5.4,6,6.7,6.8,7,7.1,7.4,7.5,7.7,8,8.1,9,12.3,12.4,12.7,12.9,15,16,16.4,16.5,16.6,17,18.4,19.4,19.5,19.7,19.9,20,20.5,20.7,20.8,21.2,21.3,21.4,22.3,22.4,25,25.1,25.2,25.3,25.3,25.6,25.7,25.9,26,27,28.5,29.9,30,30,30.1,30.2,30.5,32,32.1,32.5,33,34,35.2]\n",
    "metodo_raizcuadrada(value)\n",
    "metodo_sturges(value)\n",
    "metodo_scott(value)\n",
    "metodo_fd(value)"
   ]
  },
  {
   "cell_type": "code",
   "execution_count": null,
   "metadata": {},
   "outputs": [],
   "source": []
  },
  {
   "cell_type": "code",
   "execution_count": null,
   "metadata": {},
   "outputs": [],
   "source": []
  },
  {
   "cell_type": "code",
   "execution_count": null,
   "metadata": {},
   "outputs": [],
   "source": []
  },
  {
   "cell_type": "code",
   "execution_count": null,
   "metadata": {},
   "outputs": [],
   "source": []
  },
  {
   "cell_type": "code",
   "execution_count": null,
   "metadata": {},
   "outputs": [],
   "source": []
  },
  {
   "cell_type": "code",
   "execution_count": null,
   "metadata": {},
   "outputs": [],
   "source": []
  },
  {
   "cell_type": "code",
   "execution_count": null,
   "metadata": {},
   "outputs": [],
   "source": []
  },
  {
   "cell_type": "code",
   "execution_count": null,
   "metadata": {},
   "outputs": [],
   "source": []
  },
  {
   "cell_type": "code",
   "execution_count": null,
   "metadata": {},
   "outputs": [],
   "source": []
  },
  {
   "cell_type": "code",
   "execution_count": null,
   "metadata": {},
   "outputs": [],
   "source": []
  },
  {
   "cell_type": "code",
   "execution_count": null,
   "metadata": {},
   "outputs": [],
   "source": []
  },
  {
   "cell_type": "code",
   "execution_count": null,
   "metadata": {},
   "outputs": [],
   "source": []
  },
  {
   "cell_type": "code",
   "execution_count": null,
   "metadata": {},
   "outputs": [],
   "source": []
  },
  {
   "cell_type": "code",
   "execution_count": null,
   "metadata": {},
   "outputs": [],
   "source": []
  },
  {
   "cell_type": "code",
   "execution_count": null,
   "metadata": {},
   "outputs": [],
   "source": []
  }
 ],
 "metadata": {
  "kernelspec": {
   "display_name": "Python 3",
   "language": "python",
   "name": "python3"
  },
  "language_info": {
   "codemirror_mode": {
    "name": "ipython",
    "version": 3
   },
   "file_extension": ".py",
   "mimetype": "text/x-python",
   "name": "python",
   "nbconvert_exporter": "python",
   "pygments_lexer": "ipython3",
   "version": "3.8.5"
  }
 },
 "nbformat": 4,
 "nbformat_minor": 4
}
